{
 "cells": [
  {
   "cell_type": "markdown",
   "id": "25e802ab",
   "metadata": {},
   "source": [
    "# Вычисление факториала числа"
   ]
  },
  {
   "cell_type": "markdown",
   "id": "62441eab",
   "metadata": {},
   "source": [
    "Напишите функцию, которая принимает целое число n и возвращает его факториал n!.\n",
    "\n",
    "Пример:\n",
    "* Вход: $n = 5$\n",
    "* Выход: $120$ (так как  $5! = 5 \\times 4 \\times 3 \\times 2 \\times 1 = 120$ )\n"
   ]
  },
  {
   "cell_type": "code",
   "execution_count": 6,
   "id": "4a9e929a",
   "metadata": {},
   "outputs": [
    {
     "name": "stdout",
     "output_type": "stream",
     "text": [
      "120\n"
     ]
    }
   ],
   "source": [
    "def factorial(n: int):\n",
    "    if n < 0:\n",
    "        print('Невозможно вычислить факториал отрицательного числа')\n",
    "        return\n",
    "    else:\n",
    "        result = 1\n",
    "        for i in range(1, n + 1):\n",
    "            result *= i\n",
    "        return result\n",
    "\n",
    "print(factorial(5))  # Выход: 120"
   ]
  },
  {
   "cell_type": "code",
   "execution_count": 7,
   "id": "d8156ce1",
   "metadata": {},
   "outputs": [],
   "source": [
    "assert factorial(1) == 1"
   ]
  },
  {
   "cell_type": "code",
   "execution_count": 8,
   "id": "1aae89c1",
   "metadata": {},
   "outputs": [],
   "source": [
    "assert factorial(5) == 120"
   ]
  },
  {
   "cell_type": "markdown",
   "id": "7e71749c",
   "metadata": {},
   "source": [
    "# Поиск максимального элемента в матрице"
   ]
  },
  {
   "cell_type": "markdown",
   "id": "155bb94d",
   "metadata": {},
   "source": [
    "Напишите функцию, которая принимает матрицу (двумерный список) и находит максимальный элемент в этой матрице. Функция должна возвращать максимальное значение и его координаты (индексы строки и столбца)."
   ]
  },
  {
   "cell_type": "code",
   "execution_count": null,
   "id": "4ff0bdf0",
   "metadata": {},
   "outputs": [
    {
     "name": "stdout",
     "output_type": "stream",
     "text": [
      "9\n",
      "(2, 2)\n"
     ]
    }
   ],
   "source": [
    "def find_max_in_matrix(matrix: list):\n",
    "    max_pos = (0, 0)\n",
    "    max_elem = matrix[0][0]\n",
    "\n",
    "    for i, row in enumerate(matrix):\n",
    "        for j, elem in enumerate(row):\n",
    "            if elem > max_elem:\n",
    "                max_elem = elem\n",
    "                max_pos = (i, j)\n",
    "    \n",
    "    return max_elem, max_pos\n",
    "\n",
    "matrix = [\n",
    "    [1, 2, 3],\n",
    "    [4, 5, 6],\n",
    "    [7, 8, 9]\n",
    "]\n",
    "max_value, max_position = find_max_in_matrix(matrix)\n",
    "print(max_value) ## 9\n",
    "print(max_position) ## (2, 2)"
   ]
  },
  {
   "cell_type": "markdown",
   "id": "69827bab",
   "metadata": {},
   "source": [
    "# Подсчёт каждой цифры в большом числе "
   ]
  },
  {
   "cell_type": "markdown",
   "id": "8770d3a0",
   "metadata": {},
   "source": [
    "Напишите функцию, которая принимает очень большое целое число и возвращает словарь, где ключом является каждая цифра от 0 до 9, а значением — количество её вхождений в числе. Не используйте строки или преобразование числа в строку.\n",
    "\n",
    "**Пример:**\n",
    "* Вход: 12345678901234567890\n",
    "* Выход: {0: 2, 1: 2, 2: 2, 3: 2, 4: 2, 5: 2, 6: 2, 7: 2, 8: 2, 9: 2}\n",
    "* Вход: 555123123555\n",
    "* Выход: {0: 0, 1: 2, 2: 2, 3: 2, 4: 0, 5: 6, 6: 0, 7: 0, 8: 0, 9: 0}"
   ]
  },
  {
   "cell_type": "code",
   "execution_count": 13,
   "id": "fb829b24",
   "metadata": {},
   "outputs": [],
   "source": [
    "from collections import defaultdict"
   ]
  },
  {
   "cell_type": "code",
   "execution_count": null,
   "id": "00143578",
   "metadata": {},
   "outputs": [],
   "source": [
    "def count_digits(number: int):\n",
    "    res = defaultdict(int)\n",
    "    while number > 0:\n",
    "        num = number % 10\n",
    "        number = number // 10\n",
    "        res[num] += 1\n",
    "    res = dict(sorted(res.items()))\n",
    "    return res"
   ]
  },
  {
   "cell_type": "code",
   "execution_count": 31,
   "id": "010623c4",
   "metadata": {},
   "outputs": [],
   "source": [
    "assert count_digits(12345678901234567890) == {0: 2, 1: 2, 2: 2, 3: 2, 4: 2, 5: 2, 6: 2, 7: 2, 8: 2, 9: 2}"
   ]
  },
  {
   "cell_type": "markdown",
   "id": "3d86eb5c",
   "metadata": {},
   "source": [
    "\n",
    "# Вычисление экспоненциального ряда"
   ]
  },
  {
   "cell_type": "markdown",
   "id": "9aa8d601",
   "metadata": {},
   "source": [
    "Напишите функцию, которая приближённо вычисляет значение экспоненты  $e^x$  по следующей формуле:\n",
    "\n",
    "$$e^x = 1 + \\frac{x}{1!} + \\frac{x^2}{2!} + \\frac{x^3}{3!} + \\dots + \\frac{x^n}{n!}$$\n",
    "\n",
    "Используйте только n первых членов ряда и факториалы, вычисленные самостоятельно.\n",
    "\n",
    "Пример:\n",
    "* Вход: $x = 1, n = 5$\n",
    "* Выход: $2.7166666666666663$ (близко к реальному значению  $e \\approx 2.718$ )"
   ]
  },
  {
   "cell_type": "code",
   "execution_count": 38,
   "id": "c89ba3af",
   "metadata": {},
   "outputs": [
    {
     "name": "stdout",
     "output_type": "stream",
     "text": [
      "2.7166666666666663\n"
     ]
    }
   ],
   "source": [
    "def e(x: float, n: int):\n",
    "    res = 1\n",
    "    last_value = 1\n",
    "\n",
    "    for i in range(1, n + 1):\n",
    "        last_value *= x / i\n",
    "        res += last_value\n",
    "    \n",
    "    return res\n",
    "\n",
    "# Пример использования\n",
    "print(e(1, 5))  # Выход: приближённое значение e ≈ 2.71667"
   ]
  },
  {
   "cell_type": "markdown",
   "id": "195d27a7",
   "metadata": {
    "ExecuteTime": {
     "end_time": "2024-10-30T05:09:38.468053Z",
     "start_time": "2024-10-30T05:09:38.451652Z"
    }
   },
   "source": [
    "# Вычисление корней квадратного уравнения"
   ]
  },
  {
   "cell_type": "markdown",
   "id": "c2ff033a",
   "metadata": {
    "ExecuteTime": {
     "end_time": "2024-10-30T05:10:25.417423Z",
     "start_time": "2024-10-30T05:10:25.396719Z"
    }
   },
   "source": [
    "Напишите функцию, которая решает квадратное уравнение вида  $ax^2 + bx + c = 0$ , где коэффициенты a, b и c вводятся пользователем. Функция должна вернуть действительные корни уравнения, если они существуют, или сообщить, что корней нет.\n",
    "\n",
    "Пример:\n",
    "* Вход: $a = 1, b = -3, c = 2$\n",
    "* Выход: корни $(2, 1)$"
   ]
  },
  {
   "cell_type": "code",
   "execution_count": 40,
   "id": "6ed1b459",
   "metadata": {},
   "outputs": [
    {
     "name": "stdout",
     "output_type": "stream",
     "text": [
      "(2.0, 1.0)\n",
      "Нет действительных корней\n",
      "None\n"
     ]
    }
   ],
   "source": [
    "import math\n",
    "\n",
    "def quadratic_roots(a, b, c):\n",
    "    D = b ** 2 - 4 * a * c\n",
    "    if D < 0:\n",
    "        print('Нет действительных корней')\n",
    "    else:\n",
    "        x1 = (-b + D ** 0.5) / (2 * a)\n",
    "        x2 = (-b - D ** 0.5) / (2 * a)\n",
    "        return (x1, x2)\n",
    "\n",
    "# Пример использования\n",
    "print(quadratic_roots(1, -3, 2))  # Выход: (2, 1)\n",
    "print(quadratic_roots(1, 2, 5))   # Выход: \"Нет действительных корней\""
   ]
  },
  {
   "cell_type": "markdown",
   "id": "b1deb6a0",
   "metadata": {},
   "source": [
    "# Приближённое вычисление синуса с использованием ряда Тейлора"
   ]
  },
  {
   "cell_type": "markdown",
   "id": "6c1aced2",
   "metadata": {},
   "source": [
    "Напишите функцию, которая приближённо вычисляет значение синуса для угла $x$ (в радианах) с использованием ряда Тейлора. Формула для синуса через ряд Тейлора:\n",
    "\n",
    "$$\\sin(x) = x - \\frac{x^3}{3!} + \\frac{x^5}{5!} - \\frac{x^7}{7!} + \\dots$$\n",
    "Функция должна принимать угол x и количество членов n и возвращать приближённое значение синуса, вычисленное с точностью до n членов.\n"
   ]
  },
  {
   "cell_type": "code",
   "execution_count": 47,
   "id": "75f60214",
   "metadata": {},
   "outputs": [],
   "source": [
    "import numpy as np"
   ]
  },
  {
   "cell_type": "code",
   "execution_count": 54,
   "id": "04e40aba",
   "metadata": {
    "ExecuteTime": {
     "end_time": "2024-10-30T05:14:58.636704Z",
     "start_time": "2024-10-30T05:14:58.624892Z"
    }
   },
   "outputs": [
    {
     "name": "stdout",
     "output_type": "stream",
     "text": [
      "1.0\n"
     ]
    }
   ],
   "source": [
    "def sin_taylor(x, n):\n",
    "    res = x\n",
    "    last_value = x\n",
    "\n",
    "    for i in range(1, n):\n",
    "        last_value *= - x ** 2 / (2 * i * (2 * i + 1))\n",
    "        res += last_value\n",
    "    \n",
    "    return res\n",
    "\n",
    "# Пример использования\n",
    "print(sin_taylor(np.pi / 2, 10))  # Выход: примерно 1 (для x ≈ π/2)"
   ]
  },
  {
   "cell_type": "markdown",
   "id": "f33c8568",
   "metadata": {},
   "source": [
    "# Подсчёт единичных битов в числе"
   ]
  },
  {
   "cell_type": "markdown",
   "id": "d1e0775d",
   "metadata": {
    "ExecuteTime": {
     "end_time": "2024-10-30T05:17:58.157530Z",
     "start_time": "2024-10-30T05:17:58.139148Z"
    }
   },
   "source": [
    "Напишите функцию, которая принимает целое число n и возвращает количество единичных битов в его двоичном представлении (так называемое “популяционное количество” или “hamming weight”).\n",
    "\n",
    "Пример:\n",
    "* Вход: $n = 9$ (двоичное представление $1001$)\n",
    "* Выход: $2$ (так как в числе $1001$ два единичных бита)"
   ]
  },
  {
   "cell_type": "code",
   "execution_count": 62,
   "id": "38136a82",
   "metadata": {
    "ExecuteTime": {
     "end_time": "2024-10-30T05:18:13.787106Z",
     "start_time": "2024-10-30T05:18:13.782701Z"
    }
   },
   "outputs": [
    {
     "name": "stdout",
     "output_type": "stream",
     "text": [
      "2\n"
     ]
    }
   ],
   "source": [
    "def count_set_bits(n):\n",
    "    bin_n = bin(n)\n",
    "\n",
    "    count = 0\n",
    "    for bit in bin_n[2:]:\n",
    "        if bit == '1':\n",
    "            count += 1\n",
    "    \n",
    "    return count\n",
    "\n",
    "# Пример использования\n",
    "print(count_set_bits(9))  # Выход: 2"
   ]
  },
  {
   "cell_type": "markdown",
   "id": "0bb78081",
   "metadata": {},
   "source": [
    "# Переворот битов в числе"
   ]
  },
  {
   "cell_type": "markdown",
   "id": "b8500f42",
   "metadata": {
    "ExecuteTime": {
     "end_time": "2024-10-30T05:19:49.749240Z",
     "start_time": "2024-10-30T05:19:49.733887Z"
    }
   },
   "source": [
    "Напишите функцию, которая принимает целое положительное число n и количество бит num_bits и возвращает число n с перевёрнутыми битами в его двоичном представлении (то есть 0 становится 1 и наоборот) до длины num_bits.\n",
    "\n",
    "Пример:\n",
    "\n",
    "* Вход: $n = 5$ (двоичное представление $0101$), num_bits = 4\n",
    "* Выход: $10$ (двоичное представление $1010$)\n"
   ]
  },
  {
   "cell_type": "code",
   "execution_count": 8,
   "id": "5df23427",
   "metadata": {
    "ExecuteTime": {
     "end_time": "2024-10-30T05:20:15.538260Z",
     "start_time": "2024-10-30T05:20:15.516958Z"
    }
   },
   "outputs": [
    {
     "name": "stdout",
     "output_type": "stream",
     "text": [
      "3\n"
     ]
    }
   ],
   "source": [
    "def invert_bits(n, num_bits):\n",
    "    bin_n = bin(n)[2:].zfill(num_bits)\n",
    "    new_bin = ''\n",
    "\n",
    "    for bit in bin_n[:num_bits]:\n",
    "        new_bin += '0' if bit == '1' else '1'\n",
    "    new_bin += bin_n[num_bits:]\n",
    "            \n",
    "    return int(new_bin, 2)\n",
    "\n",
    "# \n",
    "print(invert_bits(5, 2))  # Выход: 10"
   ]
  },
  {
   "cell_type": "markdown",
   "id": "c29e6294",
   "metadata": {},
   "source": [
    "# Возведение числа в степень"
   ]
  },
  {
   "cell_type": "markdown",
   "id": "8d92e469",
   "metadata": {},
   "source": [
    "Напишите функцию, которая принимает два целых числа base и exponent и возвращает результат возведения base в степень exponent. Используйте метод “возведения в степень за логарифмическое время” (метод деления степени пополам)."
   ]
  },
  {
   "cell_type": "code",
   "execution_count": 10,
   "id": "0cbdf898",
   "metadata": {
    "ExecuteTime": {
     "end_time": "2024-10-30T05:24:49.050670Z",
     "start_time": "2024-10-30T05:24:49.038971Z"
    }
   },
   "outputs": [
    {
     "name": "stdout",
     "output_type": "stream",
     "text": [
      "1024\n",
      "0.1111111111111111\n"
     ]
    }
   ],
   "source": [
    "def power(base, exponent):\n",
    "    if exponent < 0:\n",
    "        base = 1 / base\n",
    "        exponent = - exponent\n",
    "    \n",
    "    if exponent == 0:\n",
    "        return 1\n",
    "    \n",
    "    if exponent == 1:\n",
    "        return base\n",
    "    \n",
    "    if exponent % 2 == 0:\n",
    "        return power(base, exponent / 2) * power(base, exponent / 2)\n",
    "    else:\n",
    "        return power(base, exponent - 1) * power(base, 1)\n",
    "\n",
    "print(power(2, 10))    # Выход: 1024\n",
    "print(power(3, -2))    # Выход: 0.1111"
   ]
  },
  {
   "cell_type": "markdown",
   "id": "12002951",
   "metadata": {},
   "source": [
    "# Отрисовка ромба"
   ]
  },
  {
   "cell_type": "markdown",
   "id": "10a3d85a",
   "metadata": {},
   "source": [
    "Напишите функцию, которая принимает целое положительное число n и рисует ромб высотой 2 * n - 1 строк. Верхняя и нижняя части ромба должны иметь наибольшую ширину 2 * n - 1, а середина ромба (строка n) должна иметь максимальную ширину."
   ]
  },
  {
   "cell_type": "code",
   "execution_count": null,
   "id": "ee7eb667",
   "metadata": {},
   "outputs": [],
   "source": [
    "# draw_diamond(3)\n",
    "#  *\n",
    "# ***\n",
    "#*****\n",
    "# ***\n",
    "#  *"
   ]
  },
  {
   "cell_type": "code",
   "execution_count": 13,
   "id": "60766226",
   "metadata": {
    "ExecuteTime": {
     "end_time": "2024-10-30T05:45:35.770423Z",
     "start_time": "2024-10-30T05:45:35.759216Z"
    }
   },
   "outputs": [],
   "source": [
    "def draw_diamond(n):\n",
    "    for i in range(1, n + 1):\n",
    "        print(' ' * (n - i), '*' * (2 * i - 1), ' ' * (n - i))\n",
    "    for i in range(n - 1, 0, -1):\n",
    "        print(' ' * (n - i), '*' * (2 * i - 1), ' ' * (n - i))"
   ]
  },
  {
   "cell_type": "code",
   "execution_count": 15,
   "id": "3d4af260",
   "metadata": {},
   "outputs": [
    {
     "name": "stdout",
     "output_type": "stream",
     "text": [
      "          *          \n",
      "         ***         \n",
      "        *****        \n",
      "       *******       \n",
      "      *********      \n",
      "     ***********     \n",
      "    *************    \n",
      "   ***************   \n",
      "  *****************  \n",
      " ******************* \n",
      "  *****************  \n",
      "   ***************   \n",
      "    *************    \n",
      "     ***********     \n",
      "      *********      \n",
      "       *******       \n",
      "        *****        \n",
      "         ***         \n",
      "          *          \n"
     ]
    }
   ],
   "source": [
    "draw_diamond(10)"
   ]
  },
  {
   "cell_type": "markdown",
   "id": "4e65873f",
   "metadata": {
    "ExecuteTime": {
     "end_time": "2024-10-30T05:54:39.104633Z",
     "start_time": "2024-10-30T05:54:39.093934Z"
    }
   },
   "source": [
    "# Сортировка вставками"
   ]
  },
  {
   "cell_type": "markdown",
   "id": "82e456ec",
   "metadata": {},
   "source": [
    "Сортировка вставками работает по принципу упорядочивания списка “слева направо”. Алгоритм делит массив на две части: отсортированную и неотсортированную. На каждом шаге берётся первый элемент из неотсортированной части и вставляется в правильное место в отсортированной части. Эта операция выполняется до тех пор, пока неотсортированная часть не станет пустой.\n",
    "\n",
    "**Пошаговый пример:**   \n",
    "\n",
    "Для массива [5, 2, 9, 1, 5, 6]:\n",
    "\n",
    "1.\tНачинаем с 5 (считаем отсортированным).\n",
    "2.\tБерём 2, вставляем перед 5 → [2, 5, 9, 1, 5, 6].\n",
    "3.\tБерём 9, уже на своём месте → [2, 5, 9, 1, 5, 6].\n",
    "4.\tБерём 1, вставляем перед 2 → [1, 2, 5, 9, 5, 6].\n",
    "5.\tБерём 5, вставляем после первого 5 → [1, 2, 5, 5, 9, 6].\n",
    "6.\tБерём 6, вставляем перед 9 → [1, 2, 5, 5, 6, 9]."
   ]
  },
  {
   "cell_type": "code",
   "execution_count": 24,
   "id": "9f7d36c9",
   "metadata": {},
   "outputs": [],
   "source": [
    "def insertion_sort(arr):\n",
    "    for i in range(1, len(arr)):\n",
    "        if arr[i] < arr[i-1]:\n",
    "            for j in range(i):\n",
    "                if arr[i] < arr[j]:\n",
    "                    arr = arr[:j] + arr[i:i+1] + arr[j:i] + arr[i+1:]\n",
    "    return arr\n"
   ]
  },
  {
   "cell_type": "code",
   "execution_count": 27,
   "id": "478e8774",
   "metadata": {},
   "outputs": [
    {
     "data": {
      "text/plain": [
       "[-1, 0, 1, 2, 5, 5, 6, 9]"
      ]
     },
     "execution_count": 27,
     "metadata": {},
     "output_type": "execute_result"
    }
   ],
   "source": [
    "insertion_sort([5, 2, 9, 1, 5, 6, -1, 0])"
   ]
  },
  {
   "cell_type": "markdown",
   "id": "0291f2b9",
   "metadata": {},
   "source": [
    "# Быстрая сортировка"
   ]
  },
  {
   "cell_type": "markdown",
   "id": "2035308e",
   "metadata": {},
   "source": [
    "Быстрая сортировка — это алгоритм, который работает по принципу разделяй и властвуй. Алгоритм выбирает так называемый опорный элемент (или “разделитель”) и делит массив на две части: элементы, меньшие опорного, и элементы, большие или равные ему. После этого рекурсивно выполняет ту же процедуру для каждой части массива. Это позволяет быстро упорядочить массив.\n",
    "\n",
    "**Как работает алгоритм:**\n",
    "\n",
    "1.\tВыбираем опорный элемент (обычно берётся средний элемент массива, но можно использовать и другие подходы).\n",
    "2.\tРазделяем массив на две части:\n",
    "    * Левая часть: все элементы, меньшие опорного.\n",
    "\t* Правая часть: все элементы, большие или равные опорному.\n",
    "3.\tРекурсивно применяем быструю сортировку к левой и правой частям.\n",
    "4.\tКогда массивы разделены до одного элемента, все элементы оказываются на своих местах, и массив становится отсортированным.\n",
    "\n",
    "**Пошаговый пример:**\n",
    "\n",
    "Для массива [5, 2, 9, 1, 5, 6]:\n",
    "\n",
    "\t1.\tБерём 5 как опорный элемент.\n",
    "\t2.\tРазделяем массив на [2, 1] (меньше 5) и [9, 5, 6] (больше или равно 5).\n",
    "\t3.\tРекурсивно сортируем [2, 1] → [1, 2].\n",
    "\t4.\tРекурсивно сортируем [9, 5, 6] → [5, 6, 9].\n",
    "\t5.\tСобираем всё вместе → [1, 2, 5, 5, 6, 9]."
   ]
  },
  {
   "cell_type": "code",
   "execution_count": 28,
   "id": "f08efff4",
   "metadata": {},
   "outputs": [],
   "source": [
    "def quick_sort(arr):\n",
    "    if len(arr) <= 1:\n",
    "        return arr\n",
    "    \n",
    "    ref = arr[len(arr) // 2]\n",
    "\n",
    "    left = [x for x in arr if x < ref]\n",
    "\n",
    "    middle = [x for x in arr if x == ref]\n",
    "\n",
    "    right = [x for x in arr if x > ref]\n",
    "\n",
    "    return quick_sort(left) + middle + quick_sort(right)"
   ]
  },
  {
   "cell_type": "code",
   "execution_count": 30,
   "id": "eed18bb4",
   "metadata": {},
   "outputs": [
    {
     "data": {
      "text/plain": [
       "[-1, 0, 1, 2, 5, 5, 6, 9]"
      ]
     },
     "execution_count": 30,
     "metadata": {},
     "output_type": "execute_result"
    }
   ],
   "source": [
    "quick_sort([5, 2, 9, 1, 5, 6, -1, 0])"
   ]
  },
  {
   "cell_type": "code",
   "execution_count": 31,
   "id": "4aecb1db",
   "metadata": {},
   "outputs": [
    {
     "name": "stdout",
     "output_type": "stream",
     "text": [
      "Время выполнения сортировки вставками: 6.26234 секунд\n",
      "Время выполнения быстрой сортировки: 0.05188 секунд\n"
     ]
    }
   ],
   "source": [
    "import random\n",
    "import time\n",
    "\n",
    "# Генерация случайного массива\n",
    "array_size = 10000\n",
    "array = [random.randint(0, 10000) for _ in range(array_size)]\n",
    "\n",
    "# Сравнение времени выполнения\n",
    "array_copy = array.copy()\n",
    "start_time = time.time()\n",
    "insertion_sort(array_copy)\n",
    "insertion_time = time.time() - start_time\n",
    "\n",
    "array_copy = array.copy()\n",
    "start_time = time.time()\n",
    "quick_sort(array_copy)\n",
    "quick_sort_time = time.time() - start_time\n",
    "\n",
    "print(f\"Время выполнения сортировки вставками: {insertion_time:.5f} секунд\")\n",
    "print(f\"Время выполнения быстрой сортировки: {quick_sort_time:.5f} секунд\")"
   ]
  },
  {
   "cell_type": "markdown",
   "id": "9d6f52b9",
   "metadata": {},
   "source": [
    "# Подсчёт количества слов в строке"
   ]
  },
  {
   "cell_type": "markdown",
   "id": "d59d25b2",
   "metadata": {},
   "source": [
    "Напишите функцию, которая принимает строку и возвращает количество слов в ней, не используя встроенные методы для работы со строками, такие как `split()`, `strip()`, `count()` и т. д. Слова разделяются одним или несколькими пробелами. Знаки препинания считаются частью слов.\n",
    "\n",
    "**Определение слова:** Непрерывная последовательность символов, отличных от пробела `(' ')`.\n",
    "\n",
    "**Пример:**\n",
    "* Вход: \"Hello,   world! How are you?\"\n",
    "* Выход: 5 (так как строка содержит пять слов)"
   ]
  },
  {
   "cell_type": "code",
   "execution_count": 34,
   "id": "39b0a6fc",
   "metadata": {},
   "outputs": [
    {
     "name": "stdout",
     "output_type": "stream",
     "text": [
      "5\n"
     ]
    }
   ],
   "source": [
    "def count_words(s):\n",
    "    count = 0\n",
    "    new_word = False\n",
    "\n",
    "    for ch in s:\n",
    "        if not ch == ' ' and not new_word:\n",
    "            count += 1\n",
    "            new_word = True\n",
    "        elif ch == ' ':\n",
    "            new_word = False\n",
    "    return count\n",
    "\n",
    "print(count_words(\"Hello,   world! How are you?\"))  # Выход: 5"
   ]
  },
  {
   "cell_type": "markdown",
   "id": "9311484c",
   "metadata": {},
   "source": [
    "# Удаление дубликатов слов в строке"
   ]
  },
  {
   "cell_type": "markdown",
   "id": "66001171",
   "metadata": {},
   "source": [
    "Напишите функцию, которая принимает строку и возвращает новую строку, в которой удалены все дубликаты слов. Слова должны сохранять порядок их первого появления в исходной строке. Считайте, что слова разделяются одним или несколькими пробелами и могут содержать знаки препинания.\n",
    "\n",
    "**Условия:**\n",
    "1.\tФункция должна быть нечувствительной к регистру (например, 'Hello' и 'hello' считаются одним и тем же словом).\n",
    "2.\tСлова, оставшиеся в результирующей строке, должны сохранять регистр их первого появления.\n",
    "\n",
    "**Пример:**\n",
    "* Вход: \"This is a test. This test is only a test.\"\n",
    "* Выход: \"This is a test. only\"\n",
    "* Вход: \"Hello World world hello\"\n",
    "* Выход: \"Hello World\""
   ]
  },
  {
   "cell_type": "code",
   "execution_count": 43,
   "id": "93d6686a",
   "metadata": {},
   "outputs": [],
   "source": [
    "def remove_duplicate_words(s):\n",
    "    punct = ['!', '?', '.', ',']\n",
    "\n",
    "    result = []\n",
    "    words = set()\n",
    "\n",
    "    for word in s.split():\n",
    "        clean_word = word.strip().lower()\n",
    "\n",
    "        for p in punct:\n",
    "            clean_word = clean_word.replace(p, '')\n",
    "\n",
    "        if not clean_word in words:\n",
    "            result.append(word)\n",
    "            words.add(clean_word)\n",
    "    \n",
    "    return ' '.join(result)"
   ]
  },
  {
   "cell_type": "code",
   "execution_count": 45,
   "id": "115f938d",
   "metadata": {},
   "outputs": [
    {
     "data": {
      "text/plain": [
       "'Hello World'"
      ]
     },
     "execution_count": 45,
     "metadata": {},
     "output_type": "execute_result"
    }
   ],
   "source": [
    "remove_duplicate_words(\"Hello World world hello\")"
   ]
  },
  {
   "cell_type": "code",
   "execution_count": null,
   "id": "f4f11aa0",
   "metadata": {},
   "outputs": [],
   "source": []
  }
 ],
 "metadata": {
  "kernelspec": {
   "display_name": "base",
   "language": "python",
   "name": "python3"
  },
  "language_info": {
   "codemirror_mode": {
    "name": "ipython",
    "version": 3
   },
   "file_extension": ".py",
   "mimetype": "text/x-python",
   "name": "python",
   "nbconvert_exporter": "python",
   "pygments_lexer": "ipython3",
   "version": "3.12.4"
  }
 },
 "nbformat": 4,
 "nbformat_minor": 5
}
