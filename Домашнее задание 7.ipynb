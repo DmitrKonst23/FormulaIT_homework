{
 "cells": [
  {
   "cell_type": "markdown",
   "id": "e4d450c2",
   "metadata": {},
   "source": [
    "# Словарь"
   ]
  },
  {
   "cell_type": "markdown",
   "id": "ca42b161",
   "metadata": {
    "ExecuteTime": {
     "end_time": "2024-11-12T17:23:33.620558Z",
     "start_time": "2024-11-12T17:23:33.612887Z"
    }
   },
   "source": [
    "## Порядок сдачи домашнего"
   ]
  },
  {
   "cell_type": "markdown",
   "id": "1ff1df47",
   "metadata": {},
   "source": [
    "Вам требуется создать гит репозиторий куда вы будете складывать все ваши домашние. Под каждое домашнее вы создаете отдельную ветку куда вносите все изменения в рамках домашнего. Как только домашнее готово - создаете пулл реквест (обратите внимание что в пулл реквесте должны быть отражены все изменения в рамках домашнего) или присылаете код в СДО. Ревьювером назначаете http://github.com/michael15346/ и https://github.com/shgpavel . Перед сдачей проверьте код, напишите тесты. Не забудьте про PEP8, например, с помощью flake8. Задание нужно делать в jupyter notebook.\n",
    "\n",
    "**Дедлайн - 25 ноября 10:00**"
   ]
  },
  {
   "cell_type": "markdown",
   "id": "f9fd13a2",
   "metadata": {},
   "source": [
    "Во время лекции мы с вами познакомились с различными реализациями множества и массива. Задача домашнего задания реализовать собственное множество. Операции добавления и удаления должны работать аммортизированное $O(1)$.\n",
    "\n",
    "Пример использования:\n",
    "```python\n",
    "d = Dict()\n",
    "d[\"name\"] = \"Peter\"\n",
    "d[\"age\"] = 25\n",
    "d[\"city\"] = \"Saint-Petersburg\"\n",
    "\n",
    "print(d[\"name\"])\n",
    "Peter\n",
    "\n",
    "print(\"age\" in d)\n",
    "True\n",
    "\n",
    "del d[\"city\"]\n",
    "\n",
    "print(d.keys())\n",
    "['name', 'age']\n",
    "\n",
    "print(d.values())\n",
    "['Peter', 25]\n",
    "\n",
    "print(d.items())\n",
    "[('name', 'Peter'), ('age', 25)]\n",
    "\n",
    "print(d)\n",
    "{'name': 'Peter', 'age': 25}\n",
    "```"
   ]
  },
  {
   "cell_type": "code",
   "execution_count": 1,
   "id": "1f4b4200-ff25-4284-86cc-0c9c2167f068",
   "metadata": {},
   "outputs": [],
   "source": [
    "class Dict:\n",
    "    def __init__(self, size=100):\n",
    "        self.size = size\n",
    "        self.length = 0\n",
    "        self.__keys = [None] * self.size\n",
    "        self.__values = [None] * self.size\n",
    "\n",
    "    def __setitem__(self, key, value):\n",
    "        \"\"\"Добавление или обновление значения по ключу.\"\"\"\n",
    "        if self.__contains__(key):\n",
    "            index = self.__keys.index(key)\n",
    "            self.__values[index] = value\n",
    "        else:\n",
    "            if self.length == self.size:\n",
    "                self.__keys, self.__values = self.__resize(2 * self.size)\n",
    "\n",
    "            self.__keys[self.length] = key\n",
    "            self.__values[self.length] = value\n",
    "            self.length += 1\n",
    "\n",
    "    def __resize(self, new_size):\n",
    "        '''Расширение массивов'''\n",
    "        new_keys = [None] * new_size\n",
    "        new_values = [None] * new_size\n",
    "\n",
    "        for i in range(self.size):\n",
    "            new_keys[i] = self.__keys[i]\n",
    "            new_values[i] = self.__values[i]\n",
    "\n",
    "        self.size = new_size\n",
    "    \n",
    "        return new_keys, new_values\n",
    "\n",
    "    def __getitem__(self, key):\n",
    "        \"\"\"Получение значения по ключу.\"\"\"\n",
    "        if self.__contains__(key):\n",
    "            index = self.__keys.index(key)\n",
    "            return self.__values[index]\n",
    "        else:\n",
    "            raise KeyError(f'Значения по ключу {key} не найдено')\n",
    "\n",
    "    def __delitem__(self, key):\n",
    "        \"\"\"Удаление ключа и значения.\"\"\"\n",
    "        if self.__contains__(key) and self.length > 0:\n",
    "            index = self.__keys.index(key)\n",
    "\n",
    "            self.__keys[index] = self.__keys[self.length - 1]\n",
    "            self.__values[index] = self.__values[self.length - 1]\n",
    "\n",
    "            self.__keys[self.length - 1] = None\n",
    "            self.__values[self.length - 1] = None\n",
    "\n",
    "            self.length -= 1\n",
    "        else:\n",
    "            raise KeyError(f'Значения по ключу {key} не найдено')\n",
    "        \n",
    "    def __contains__(self, key):\n",
    "        \"\"\"Проверка наличия ключа.\"\"\"\n",
    "        if key in self.__keys:\n",
    "            return True\n",
    "        return False\n",
    "\n",
    "    def keys(self):\n",
    "        \"\"\"Получение всех ключей.\"\"\"\n",
    "        return self.__keys[:self.length]\n",
    "        \n",
    "    def values(self):\n",
    "        \"\"\"Получение всех значений.\"\"\"\n",
    "        return self.__values[:self.length]\n",
    "        \n",
    "    def items(self):\n",
    "        \"\"\"Получение всех пар (ключ, значение).\"\"\"\n",
    "        return [(key, value) for key, value in zip(self.__keys[:self.length], self.__values[:self.length])]\n",
    "        \n",
    "    def __repr__(self):\n",
    "        \"\"\"Представление таблицы.\"\"\"\n",
    "        return '{' + ', '.join([f'{key}: {value}' for key, value in zip(self.__keys[:self.length], self.__values[:self.length])]) + '}'"
   ]
  },
  {
   "cell_type": "code",
   "execution_count": 2,
   "id": "6e62c795",
   "metadata": {},
   "outputs": [],
   "source": [
    "d = Dict()\n",
    "d[\"name\"] = \"Peter\"\n",
    "d[\"age\"] = 25\n",
    "d[\"city\"] = \"Saint-Petersburg\""
   ]
  },
  {
   "cell_type": "code",
   "execution_count": 3,
   "id": "b4b3d908",
   "metadata": {},
   "outputs": [
    {
     "name": "stdout",
     "output_type": "stream",
     "text": [
      "Peter\n"
     ]
    }
   ],
   "source": [
    "print(d[\"name\"])"
   ]
  },
  {
   "cell_type": "code",
   "execution_count": 4,
   "id": "87c7dd23",
   "metadata": {},
   "outputs": [
    {
     "name": "stdout",
     "output_type": "stream",
     "text": [
      "True\n"
     ]
    }
   ],
   "source": [
    "print(\"age\" in d)"
   ]
  },
  {
   "cell_type": "code",
   "execution_count": 5,
   "id": "9d857f7e",
   "metadata": {},
   "outputs": [],
   "source": [
    "del d[\"city\"]"
   ]
  },
  {
   "cell_type": "code",
   "execution_count": 6,
   "id": "88f7b0a9",
   "metadata": {},
   "outputs": [
    {
     "name": "stdout",
     "output_type": "stream",
     "text": [
      "['name', 'age']\n"
     ]
    }
   ],
   "source": [
    "print(d.keys())"
   ]
  },
  {
   "cell_type": "code",
   "execution_count": 7,
   "id": "7b8bfe6e",
   "metadata": {},
   "outputs": [
    {
     "name": "stdout",
     "output_type": "stream",
     "text": [
      "['Peter', 25]\n"
     ]
    }
   ],
   "source": [
    "print(d.values())"
   ]
  },
  {
   "cell_type": "code",
   "execution_count": 8,
   "id": "281a76f2",
   "metadata": {},
   "outputs": [
    {
     "name": "stdout",
     "output_type": "stream",
     "text": [
      "[('name', 'Peter'), ('age', 25)]\n"
     ]
    }
   ],
   "source": [
    "print(d.items())"
   ]
  },
  {
   "cell_type": "code",
   "execution_count": 9,
   "id": "922f80ad",
   "metadata": {},
   "outputs": [
    {
     "name": "stdout",
     "output_type": "stream",
     "text": [
      "{name: Peter, age: 25}\n"
     ]
    }
   ],
   "source": [
    "print(d)"
   ]
  },
  {
   "cell_type": "code",
   "execution_count": null,
   "id": "d1ec8e74",
   "metadata": {},
   "outputs": [],
   "source": []
  }
 ],
 "metadata": {
  "kernelspec": {
   "display_name": "base",
   "language": "python",
   "name": "python3"
  },
  "language_info": {
   "codemirror_mode": {
    "name": "ipython",
    "version": 3
   },
   "file_extension": ".py",
   "mimetype": "text/x-python",
   "name": "python",
   "nbconvert_exporter": "python",
   "pygments_lexer": "ipython3",
   "version": "3.12.4"
  }
 },
 "nbformat": 4,
 "nbformat_minor": 5
}
